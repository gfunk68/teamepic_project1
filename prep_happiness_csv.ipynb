{
 "cells": [
  {
   "cell_type": "code",
   "execution_count": 1,
   "metadata": {},
   "outputs": [],
   "source": [
    "import os\n",
    "import pandas as pd\n",
    "from api_call import worldbank\n",
    "import sys"
   ]
  },
  {
   "cell_type": "code",
   "execution_count": 2,
   "metadata": {},
   "outputs": [],
   "source": [
    "try:\n",
    "    worldbank_df = worldbank()\n",
    "except:\n",
    "    print(\"Oops!\",sys.exc_info()[0],\"occured, using CSV Instead\")\n",
    "    worldbank_df = pd.read_csv(os.path.join('Resources','worldbank.csv'))\n",
    "    \n",
    "worldhappiness_df = pd.read_csv(os.path.join('Resources', 'world-happiness-report-2019.csv'))\n",
    "missingcodes = pd.read_csv(os.path.join('Resources', 'countrycodes.csv'))\n",
    "cclookup = pd.concat([worldbank_df,missingcodes], sort=True)"
   ]
  },
  {
   "cell_type": "code",
   "execution_count": 3,
   "metadata": {},
   "outputs": [],
   "source": [
    "cclist = []\n",
    "\n",
    "for i, row in worldhappiness_df.iterrows():\n",
    "    cclist.append(cclookup['Country Code'][cclookup['Country']== row['Country name']].values[0])\n",
    "#     print(row['Country name'])\n",
    "#     print(cclookup['Country Code'][cclookup['Country']== row['Country name']])\n",
    "# worldhappiness_df"
   ]
  },
  {
   "cell_type": "code",
   "execution_count": 4,
   "metadata": {},
   "outputs": [],
   "source": [
    "worldhappiness_df['Country Code'] = cclist"
   ]
  },
  {
   "cell_type": "code",
   "execution_count": 5,
   "metadata": {},
   "outputs": [],
   "source": [
    "worldhappiness_df.to_csv(os.path.join(\"Resources\",\"worldhappiness_prepped.csv\"), index=None)\n"
   ]
  },
  {
   "cell_type": "code",
   "execution_count": null,
   "metadata": {},
   "outputs": [],
   "source": []
  }
 ],
 "metadata": {
  "kernelspec": {
   "display_name": "Python 3",
   "language": "python",
   "name": "python3"
  },
  "language_info": {
   "codemirror_mode": {
    "name": "ipython",
    "version": 3
   },
   "file_extension": ".py",
   "mimetype": "text/x-python",
   "name": "python",
   "nbconvert_exporter": "python",
   "pygments_lexer": "ipython3",
   "version": "3.7.3"
  }
 },
 "nbformat": 4,
 "nbformat_minor": 2
}
